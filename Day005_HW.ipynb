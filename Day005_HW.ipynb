{
 "cells": [
  {
   "cell_type": "markdown",
   "metadata": {},
   "source": [
    "# API 資料串接 - 以 Dcard API 實作範例\n",
    "\n",
    "* 了解 Dcard API 使用方式與回傳內容\n",
    "* 撰寫程式存取 API 且解析 JSON 格式資料\n"
   ]
  },
  {
   "cell_type": "markdown",
   "metadata": {},
   "source": [
    "## 作業目標\n",
    "\n",
    "* 請利用 API: https://www.dcard.tw/_api/forums/pet/posts?popular=true 回答下列問題：\n",
    "\n",
    "1. 這個 API 一次會回傳幾筆資料？每一筆資料包含哪些欄位？\n",
    "2. 取出每一筆資料的「標題」、「貼文時間」、「留言人數」、「按讚人數」\n",
    "3. 計算熱門/非熱門文章的「平均留言人數」與「平均按讚人數」"
   ]
  },
  {
   "cell_type": "code",
   "execution_count": 12,
   "metadata": {},
   "outputs": [
    {
     "name": "stdout",
     "output_type": "stream",
     "text": [
      "30筆\n",
      "\n",
      "id\n",
      "title\n",
      "excerpt\n",
      "anonymousSchool\n",
      "anonymousDepartment\n",
      "pinned\n",
      "forumId\n",
      "replyId\n",
      "createdAt\n",
      "updatedAt\n",
      "commentCount\n",
      "likeCount\n",
      "withNickname\n",
      "tags\n",
      "topics\n",
      "meta\n",
      "forumName\n",
      "forumAlias\n",
      "gender\n",
      "school\n",
      "replyTitle\n",
      "mediaMeta\n",
      "reactions\n",
      "hidden\n",
      "customStyle\n",
      "isSuspiciousAccount\n",
      "layout\n",
      "withImages\n",
      "withVideos\n",
      "media\n",
      "reportReasonText\n",
      "postAvatar\n"
     ]
    }
   ],
   "source": [
    "# 1. 這個 API 一次會回傳幾筆資料？每一筆資料包含哪些欄位？\n",
    "import requests\n",
    "r = requests.get(' https://www.dcard.tw/_api/forums/pet/posts?popular=true')\n",
    "response = r.text\n",
    "\n",
    "response\n",
    "import json\n",
    "data = json.loads(response)\n",
    "\n",
    "count = 0\n",
    "for item in data:\n",
    "    count = count + 1\n",
    "print(str(count)+'筆')\n",
    "print()\n",
    "item = data[0]\n",
    "for key in item:\n",
    "    print(key)\n"
   ]
  },
  {
   "cell_type": "code",
   "execution_count": 13,
   "metadata": {},
   "outputs": [
    {
     "name": "stdout",
     "output_type": "stream",
     "text": [
      "標題: #法鬥 被萌到不想出門 貼文時間: 2019-12-23T01:58:20.067Z 留言人數: 53 按讚人數: 1597\n",
      "標題: 逗貓棒有那麼好玩！？ 貼文時間: 2019-12-23T10:43:40.733Z 留言人數: 13 按讚人數: 796\n",
      "標題: 為什麼一定要堅持領養代替購買 貼文時間: 2019-12-23T05:41:57.721Z 留言人數: 82 按讚人數: 286\n",
      "標題: 通緝你家狗狗 貼文時間: 2019-12-23T06:54:41.399Z 留言人數: 12 按讚人數: 282\n",
      "標題: 我家老大的勵志減肥史 貼文時間: 2019-12-23T01:36:57.832Z 留言人數: 14 按讚人數: 168\n",
      "標題: 如果你的狗狗不幸感染了犬瘟（文長慎入） 貼文時間: 2019-12-23T19:27:15.110Z 留言人數: 5 按讚人數: 78\n",
      "標題: 欸你各位喜歡喵嗎?進來一下 😂 貼文時間: 2019-12-23T17:19:51.238Z 留言人數: 5 按讚人數: 67\n",
      "標題: #有影 我的🐹竟然會看鏡頭... 貼文時間: 2019-12-24T00:57:48.497Z 留言人數: 4 按讚人數: 46\n",
      "標題: 就說剛好一坨吧 貼文時間: 2019-12-23T14:05:34.754Z 留言人數: 1 按讚人數: 39\n",
      "標題: 誰家也有電視兒童 貼文時間: 2019-12-23T14:46:31.084Z 留言人數: 6 按讚人數: 37\n",
      "標題: #柴 肥宅日常 貼文時間: 2019-12-23T13:05:00.008Z 留言人數: 1 按讚人數: 34\n",
      "標題: 同學交出你的貓 貼文時間: 2019-12-23T03:33:51.640Z 留言人數: 7 按讚人數: 33\n",
      "標題: 小姐！這樣睡真的有舒服嗎 貼文時間: 2019-12-24T02:48:34.479Z 留言人數: 1 按讚人數: 29\n",
      "標題: 在腿上暈倒的貓🤣🤣 貼文時間: 2019-12-23T10:41:28.318Z 留言人數: 1 按讚人數: 24\n",
      "標題: 待認養小黑狗 貼文時間: 2019-12-23T04:52:12.847Z 留言人數: 2 按讚人數: 24\n",
      "標題: 冬至吃湯圓 貼文時間: 2019-12-23T02:42:55.817Z 留言人數: 3 按讚人數: 20\n",
      "標題: 貓咪的一百種睡姿 貼文時間: 2019-12-23T17:27:09.433Z 留言人數: 4 按讚人數: 18\n",
      "標題: 可愛的小烏龜~ 貼文時間: 2019-12-23T15:47:07.415Z 留言人數: 5 按讚人數: 18\n",
      "標題: 鼠鼠過聖誕🔔（🐭：メリークリスマス🎄） 貼文時間: 2019-12-24T08:09:08.830Z 留言人數: 2 按讚人數: 17\n",
      "標題: 貓需要洗澡嗎？ 貼文時間: 2019-12-24T01:44:52.963Z 留言人數: 7 按讚人數: 15\n",
      "標題: 貓草適合小貓使用嗎 貼文時間: 2019-12-23T05:58:47.566Z 留言人數: 5 按讚人數: 15\n",
      "標題: 真的會被萌死🐱 貼文時間: 2019-12-24T11:10:59.344Z 留言人數: 0 按讚人數: 12\n",
      "標題: 霸氣貓87貓？！ 貼文時間: 2019-12-24T07:18:01.541Z 留言人數: 2 按讚人數: 12\n",
      "標題: 酷羅!是你嗎? 暫時收編的貓大爺🐈 貼文時間: 2019-12-23T13:19:55.338Z 留言人數: 6 按讚人數: 12\n",
      "標題: #圖 板橋 江子翠 貓咪走失 貼文時間: 2019-12-23T11:00:33.989Z 留言人數: 3 按讚人數: 11\n",
      "標題: 養貓新手：如何輕鬆分辨主食罐及副食罐？ 貼文時間: 2019-12-23T03:15:15.106Z 留言人數: 0 按讚人數: 10\n",
      "標題: 新手養龜幾個月 自己整理出來的注意事項（可討論） 貼文時間: 2019-12-23T08:03:48.592Z 留言人數: 3 按讚人數: 9\n",
      "標題: #貓 聖誕節裝扮 貼文時間: 2019-12-24T06:00:57.652Z 留言人數: 2 按讚人數: 8\n",
      "標題: 請問他的品種是？求高人指點 貼文時間: 2019-12-24T01:47:27.708Z 留言人數: 6 按讚人數: 8\n",
      "標題: 急！！貓咪肛門怪怪的 貼文時間: 2019-12-23T18:07:05.489Z 留言人數: 3 按讚人數: 8\n"
     ]
    }
   ],
   "source": [
    "# 2. 取出每一筆資料的「標題」、「貼文時間」、「留言人數」、「按讚人數」\n",
    "for item in data:\n",
    "    print('標題:',item['title'],'貼文時間:',item['createdAt'],'留言人數:',item['commentCount'],'按讚人數:',item['likeCount'])"
   ]
  },
  {
   "cell_type": "code",
   "execution_count": 19,
   "metadata": {},
   "outputs": [
    {
     "name": "stdout",
     "output_type": "stream",
     "text": [
      "熱門平均留言人數: 18 熱門平均按讚人數: 13\n",
      "非熱門平均留言人數: 7 非熱門平均按讚人數: 29\n"
     ]
    }
   ],
   "source": [
    "# 3. 計算熱門/非熱門文章的「平均留言人數」與「平均按讚人數」\n",
    "import requests\n",
    "import json\n",
    "r = requests.get(' https://www.dcard.tw/_api/forums/pet/posts?popular=true')\n",
    "res = requests.get('https://www.dcard.tw/_api/forums/pet/posts?popular=false')\n",
    "response = r.text\n",
    "jsn = json.loads(res.text)\n",
    "\n",
    "\n",
    "# json.loads(res.text)\n",
    "\n",
    "averComm = 0\n",
    "averLike = 0\n",
    "for item in data:\n",
    "    averComm = averComm + int(item['commentCount'])\n",
    "    averLike = averLike + int(item['likeCount'])\n",
    "print('熱門平均留言人數:',averComm%count,'熱門平均按讚人數:',averLike%count)\n",
    "for item in jsn:\n",
    "    averComm = averComm + int(item['commentCount'])\n",
    "    averLike = averLike + int(item['likeCount'])\n",
    "print('非熱門平均留言人數:',averComm%count,'非熱門平均按讚人數:',averLike%count)"
   ]
  },
  {
   "cell_type": "code",
   "execution_count": null,
   "metadata": {},
   "outputs": [],
   "source": []
  },
  {
   "cell_type": "code",
   "execution_count": null,
   "metadata": {},
   "outputs": [],
   "source": []
  }
 ],
 "metadata": {
  "kernelspec": {
   "display_name": "Python 3",
   "language": "python",
   "name": "python3"
  },
  "language_info": {
   "codemirror_mode": {
    "name": "ipython",
    "version": 3
   },
   "file_extension": ".py",
   "mimetype": "text/x-python",
   "name": "python",
   "nbconvert_exporter": "python",
   "pygments_lexer": "ipython3",
   "version": "3.7.3"
  }
 },
 "nbformat": 4,
 "nbformat_minor": 2
}
