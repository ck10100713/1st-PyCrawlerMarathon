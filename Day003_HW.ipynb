{
 "cells": [
  {
   "cell_type": "markdown",
   "metadata": {},
   "source": [
    "# Python 下載XML檔案與解析\n",
    "\n",
    "\n",
    "* 了解 xml 檔案格式與內容\n",
    "* 能夠利用套件存取 xml 格式的檔案\n"
   ]
  },
  {
   "cell_type": "markdown",
   "metadata": {},
   "source": [
    "## 作業目標\n",
    "\n",
    "* 比較一下範例檔案中的「File I/O」與「xmltodict」讀出來的內容有什麼差異\n",
    "\n",
    "* 根據範例檔案的結果：\n",
    "    1. 請問高雄市有多少地區有溫度資料？\n",
    "    2. 請取出每一個地區所記錄的第一個時間點跟溫度\n",
    "    3. 請取出第一個地區所記錄的每一個時間點跟溫度"
   ]
  },
  {
   "cell_type": "markdown",
   "metadata": {},
   "source": [
    "### 比較一下範例檔案中的「File I/O」與「xmltodict」讀出來的內容有什麼差異\n"
   ]
  },
  {
   "cell_type": "code",
   "execution_count": 2,
   "metadata": {},
   "outputs": [
    {
     "name": "stdout",
     "output_type": "stream",
     "text": [
      "<?xml version=\"1.0\" encoding=\"UTF-8\"?>\n",
      "<CUPOY>\n",
      "    <Title>爬蟲馬拉松</Title>\n",
      "    <Author>Wei</Author>\n",
      "    <Chapters>\n",
      "        <Chapter name=\"01\">資料來源與存取</Chapter>\n",
      "        <Chapter name=\"02\">靜態網頁爬蟲</Chapter>\n",
      "        <Chapter name=\"03\">動態網頁爬蟲</Chapter>\n",
      "    </Chapters>\n",
      "</CUPOY>\n",
      "爬蟲馬拉松\n",
      "01 資料來源與存取\n",
      "02 靜態網頁爬蟲\n",
      "03 動態網頁爬蟲\n"
     ]
    }
   ],
   "source": [
    "fh = open(\"./sample.xml\", \"r\")\n",
    "xml = fh.read()\n",
    "fh.close()\n",
    "\n",
    "print(xml)\n",
    "\n",
    "import xmltodict\n",
    "\n",
    "# 存取檔案\n",
    "\n",
    "with open('./sample.xml') as fd:\n",
    "    doc = dict(xmltodict.parse(fd.read()))\n",
    "\n",
    "# 存取我們的資訊\n",
    "print(doc['CUPOY']['Title'])\n",
    "\n",
    "# 用迴圈存取我們的資訊\n",
    "chapters = doc['CUPOY']['Chapters']['Chapter']\n",
    "for chapter in chapters:\n",
    "    print (chapter['@name'], chapter['#text'])"
   ]
  },
  {
   "cell_type": "markdown",
   "metadata": {},
   "source": [
    "### 根據範例檔案的結果：\n",
    "\n",
    "1. 請問高雄市有多少地區有溫度資料？\n",
    "2. 請取出每一個地區所記錄的第一個時間點跟溫度\n",
    "3. 請取出第一個地區所記錄的每一個時間點跟溫度"
   ]
  },
  {
   "cell_type": "code",
   "execution_count": 41,
   "metadata": {},
   "outputs": [
    {
     "name": "stdout",
     "output_type": "stream",
     "text": [
      "鹽埕區\n",
      "鼓山區\n",
      "左營區\n",
      "楠梓區\n",
      "三民區\n",
      "新興區\n",
      "前金區\n",
      "苓雅區\n",
      "前鎮區\n",
      "旗津區\n",
      "小港區\n",
      "鳳山區\n",
      "林園區\n",
      "大寮區\n",
      "大樹區\n",
      "大社區\n",
      "仁武區\n",
      "鳥松區\n",
      "岡山區\n",
      "橋頭區\n",
      "燕巢區\n",
      "田寮區\n",
      "阿蓮區\n",
      "路竹區\n",
      "湖內區\n",
      "茄萣區\n",
      "永安區\n",
      "彌陀區\n",
      "梓官區\n",
      "旗山區\n",
      "美濃區\n",
      "六龜區\n",
      "甲仙區\n",
      "杉林區\n",
      "內門區\n",
      "茂林區\n",
      "桃源區\n",
      "那瑪夏區\n"
     ]
    }
   ],
   "source": [
    "# 1. 請問高雄市有多少地區有溫度資料？\n",
    "import xmltodict\n",
    "# 打开文件\n",
    "# 输出所有文件和文件夹\n",
    "# 存取檔案\n",
    "#感謝z655062的方法\n",
    "\n",
    "with open(\"./Data/64_72hr_CH.xml\", \"r\", encoding=\"utf-8\") as file:\n",
    "    xml = file.read()\n",
    "    dic = dict(xmltodict.parse(xml))\n",
    "    \n",
    "    kao = dic['cwbopendata']['dataset']['locations']['location']\n",
    "    for k in kao:\n",
    "        if k['weatherElement']:\n",
    "            print(k['locationName'])"
   ]
  },
  {
   "cell_type": "code",
   "execution_count": 1,
   "metadata": {},
   "outputs": [
    {
     "name": "stdout",
     "output_type": "stream",
     "text": [
      "鹽埕區 2019-12-13T12:00:00+08:00 26 攝氏度\n",
      "鼓山區 2019-12-13T12:00:00+08:00 26 攝氏度\n",
      "左營區 2019-12-13T12:00:00+08:00 25 攝氏度\n",
      "楠梓區 2019-12-13T12:00:00+08:00 25 攝氏度\n",
      "三民區 2019-12-13T12:00:00+08:00 25 攝氏度\n",
      "新興區 2019-12-13T12:00:00+08:00 26 攝氏度\n",
      "前金區 2019-12-13T12:00:00+08:00 26 攝氏度\n",
      "苓雅區 2019-12-13T12:00:00+08:00 26 攝氏度\n",
      "前鎮區 2019-12-13T12:00:00+08:00 27 攝氏度\n",
      "旗津區 2019-12-13T12:00:00+08:00 25 攝氏度\n",
      "小港區 2019-12-13T12:00:00+08:00 27 攝氏度\n",
      "鳳山區 2019-12-13T12:00:00+08:00 26 攝氏度\n",
      "林園區 2019-12-13T12:00:00+08:00 27 攝氏度\n",
      "大寮區 2019-12-13T12:00:00+08:00 26 攝氏度\n",
      "大樹區 2019-12-13T12:00:00+08:00 27 攝氏度\n",
      "大社區 2019-12-13T12:00:00+08:00 26 攝氏度\n",
      "仁武區 2019-12-13T12:00:00+08:00 25 攝氏度\n",
      "鳥松區 2019-12-13T12:00:00+08:00 26 攝氏度\n",
      "岡山區 2019-12-13T12:00:00+08:00 26 攝氏度\n",
      "橋頭區 2019-12-13T12:00:00+08:00 26 攝氏度\n",
      "燕巢區 2019-12-13T12:00:00+08:00 25 攝氏度\n",
      "田寮區 2019-12-13T12:00:00+08:00 26 攝氏度\n",
      "阿蓮區 2019-12-13T12:00:00+08:00 26 攝氏度\n",
      "路竹區 2019-12-13T12:00:00+08:00 26 攝氏度\n",
      "湖內區 2019-12-13T12:00:00+08:00 25 攝氏度\n",
      "茄萣區 2019-12-13T12:00:00+08:00 24 攝氏度\n",
      "永安區 2019-12-13T12:00:00+08:00 24 攝氏度\n",
      "彌陀區 2019-12-13T12:00:00+08:00 24 攝氏度\n",
      "梓官區 2019-12-13T12:00:00+08:00 24 攝氏度\n",
      "旗山區 2019-12-13T12:00:00+08:00 26 攝氏度\n",
      "美濃區 2019-12-13T12:00:00+08:00 27 攝氏度\n",
      "六龜區 2019-12-13T12:00:00+08:00 26 攝氏度\n",
      "甲仙區 2019-12-13T12:00:00+08:00 26 攝氏度\n",
      "杉林區 2019-12-13T12:00:00+08:00 28 攝氏度\n",
      "內門區 2019-12-13T12:00:00+08:00 27 攝氏度\n",
      "茂林區 2019-12-13T12:00:00+08:00 27 攝氏度\n",
      "桃源區 2019-12-13T12:00:00+08:00 26 攝氏度\n",
      "那瑪夏區 2019-12-13T12:00:00+08:00 24 攝氏度\n"
     ]
    }
   ],
   "source": [
    "# 2. 請取出每一個地區所記錄的第一個時間點跟溫度\n",
    "\n",
    "import xmltodict\n",
    "with open(\"./Data/64_72hr_CH.xml\", \"r\", encoding=\"utf-8\") as file:\n",
    "    xml = file.read()\n",
    "    dic = dict(xmltodict.parse(xml))\n",
    "    \n",
    "    kao = dic['cwbopendata']['dataset']['locations']['location']\n",
    "    for k in kao:\n",
    "        if k['weatherElement']:\n",
    "            for item in k['weatherElement']:\n",
    "                if item['description'] == '溫度':\n",
    "                    print(k['locationName'],item['time'][0]['dataTime'],item['time'][0]['elementValue']['value'],item['time'][0]['elementValue']['measures'])"
   ]
  },
  {
   "cell_type": "code",
   "execution_count": 2,
   "metadata": {},
   "outputs": [
    {
     "name": "stdout",
     "output_type": "stream",
     "text": [
      "鹽埕區 2019-12-13T12:00:00+08:00 26 攝氏度\n",
      "鹽埕區 2019-12-13T15:00:00+08:00 26 攝氏度\n",
      "鹽埕區 2019-12-13T18:00:00+08:00 24 攝氏度\n",
      "鹽埕區 2019-12-13T21:00:00+08:00 22 攝氏度\n",
      "鹽埕區 2019-12-14T00:00:00+08:00 20 攝氏度\n",
      "鹽埕區 2019-12-14T03:00:00+08:00 20 攝氏度\n",
      "鹽埕區 2019-12-14T06:00:00+08:00 19 攝氏度\n",
      "鹽埕區 2019-12-14T09:00:00+08:00 21 攝氏度\n",
      "鹽埕區 2019-12-14T12:00:00+08:00 25 攝氏度\n",
      "鹽埕區 2019-12-14T15:00:00+08:00 26 攝氏度\n",
      "鹽埕區 2019-12-14T18:00:00+08:00 24 攝氏度\n",
      "鹽埕區 2019-12-14T21:00:00+08:00 22 攝氏度\n",
      "鹽埕區 2019-12-15T00:00:00+08:00 21 攝氏度\n",
      "鹽埕區 2019-12-15T03:00:00+08:00 20 攝氏度\n",
      "鹽埕區 2019-12-15T06:00:00+08:00 19 攝氏度\n",
      "鹽埕區 2019-12-15T09:00:00+08:00 21 攝氏度\n",
      "鹽埕區 2019-12-15T12:00:00+08:00 26 攝氏度\n",
      "鹽埕區 2019-12-15T15:00:00+08:00 27 攝氏度\n",
      "鹽埕區 2019-12-15T18:00:00+08:00 25 攝氏度\n",
      "鹽埕區 2019-12-15T21:00:00+08:00 23 攝氏度\n",
      "鹽埕區 2019-12-16T00:00:00+08:00 22 攝氏度\n",
      "鹽埕區 2019-12-16T03:00:00+08:00 21 攝氏度\n",
      "鹽埕區 2019-12-16T06:00:00+08:00 20 攝氏度\n",
      "鹽埕區 2019-12-16T09:00:00+08:00 22 攝氏度\n"
     ]
    }
   ],
   "source": [
    "# 3. 請取出第一個地區所記錄的每一個時間點跟溫度\n",
    "import xmltodict\n",
    "with open(\"./Data/64_72hr_CH.xml\", \"r\", encoding=\"utf-8\") as file:\n",
    "    xml = file.read()\n",
    "    dic = dict(xmltodict.parse(xml))\n",
    "    \n",
    "    kao = dic['cwbopendata']['dataset']['locations']['location'][0]\n",
    "    weather = kao['weatherElement'][0]['time']\n",
    "    for item in weather:\n",
    "        print (kao['locationName'],item['dataTime'],item['elementValue']['value'],item['elementValue']['measures'])"
   ]
  },
  {
   "cell_type": "code",
   "execution_count": null,
   "metadata": {},
   "outputs": [],
   "source": []
  }
 ],
 "metadata": {
  "kernelspec": {
   "display_name": "Python 3",
   "language": "python",
   "name": "python3"
  },
  "language_info": {
   "codemirror_mode": {
    "name": "ipython",
    "version": 3
   },
   "file_extension": ".py",
   "mimetype": "text/x-python",
   "name": "python",
   "nbconvert_exporter": "python",
   "pygments_lexer": "ipython3",
   "version": "3.7.3"
  }
 },
 "nbformat": 4,
 "nbformat_minor": 2
}
